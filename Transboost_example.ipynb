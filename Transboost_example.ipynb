{
 "cells": [
  {
   "cell_type": "markdown",
   "metadata": {},
   "source": [
    "# Install TransBoost"
   ]
  },
  {
   "cell_type": "code",
   "execution_count": null,
   "metadata": {},
   "outputs": [],
   "source": [
    "#!/usr/bin/env python3\n",
    "# -*- coding: utf-8 -*-\n",
    "\"\"\"\n",
    "@ Code for Paper: \"TransBoost: A Boosting-Tree Kernel Transfer Learning Algorithm for Improving Financial Inclusion\" submitted to AAAI'22\n",
    "\n",
    "1. Environment Requirements:\n",
    "    Python: 3.6/3.7\n",
    "    XGBoost: 1.4.2\n",
    "    Pandas: 1.2.4\n",
    "    \n",
    "2. How to Install TransBoost?\n",
    "    TransBoost algorithm is implemented based on the source code of XGBoost. You can find the orginal code of XGBoost on https://github.com/dmlc/xgboost).\n",
    "    To install the algorithm:\n",
    "     `python3 install.py`\n",
    "3. How to Uninstall TransBoost?\n",
    "    The experimental code of TransBoost will overwrite XGBoost temporary. We are working to solve the problem.    \n",
    "    If you want to switch to original XGBoost, you need simply uninstall TransBoost and reinstall XGBoost by:\n",
    "    `pip3 install --force-reinstall xgboost`\n",
    "\n",
    "Note:\n",
    "    Please note the following command works perfectly in Linux and MacOS; \n",
    "    However, if you are using Windows or other OS, some simple modification may be required.\n",
    "\"\"\"\n",
    "\n",
    "# Step1: Install XGBoost(ver.1.4.2),Pandas\n",
    "# Please make sure the XGB version is 1.4.2 before installing TransBoost\n",
    "!pip3 uninstall -y xgboost\n",
    "!pip3 install xgboost==1.4.2\n",
    "!pip3 install --force-reinstall pandas==1.2.4\n",
    "# Step2: Install TransBoost\n",
    "import os\n",
    "import imp\n",
    "xgb_path = imp.find_module(\"xgboost\")[1]\n",
    "# Backup files of XGBoost\n",
    "os.system('cp '+xgb_path+'/__init__.py '+xgb_path+'/__init__.py.bak')\n",
    "os.system('cp '+xgb_path+'/core.py '+xgb_path+'/core.py.bak')\n",
    "os.system('cp '+xgb_path+'/sklearn.py '+xgb_path+'/sklearn.py.bak')\n",
    "os.system('cp '+xgb_path+'/training.py '+xgb_path+'/training.py.bak')\n",
    "# Install TransBoost\n",
    "os.system('cp ./TransBoost/*.py '+xgb_path+'/')\n",
    "print('Installation succeeded.')\n",
    "\n",
    "#Step3: Uninstall\n",
    "#!pip3 install --force-reinstall xgboost\n"
   ]
  },
  {
   "cell_type": "markdown",
   "metadata": {},
   "source": [
    "## Experiment 1: Public Benchmark - Lending Club"
   ]
  },
  {
   "cell_type": "markdown",
   "metadata": {},
   "source": [
    "### Data Preparation"
   ]
  },
  {
   "cell_type": "code",
   "execution_count": null,
   "metadata": {},
   "outputs": [],
   "source": [
    "'''\n",
    "[1]Lending Club dataset:\n",
    "    URL: https://www.kaggle.com/ethon0426/lending-club-20072020q1\n",
    "'''\n",
    "import numpy as np\n",
    "import pandas as pd\n",
    "import pickle\n",
    "## Load data\n",
    "club = pd.read_csv('./data/club.csv')\n",
    "\n",
    "# Source Domain 2015; Target Domain 2016\n",
    "source_club = club[club.year == 2015]\n",
    "target_club = club[club.year == 2016]\n",
    "\n",
    "source_club = club[club.purpose == 'medical']\n",
    "target_club = club[club.purpose == 'car']\n",
    "\n",
    "source_club = source_club.drop(['purpose', 'year'], axis=1)\n",
    "target_club = target_club.drop(['purpose', 'year'], axis=1)\n",
    "\n",
    "## Data\n",
    "source = source_club\n",
    "target = target_club\n",
    "\n",
    "## parameter\n",
    "size_tt = range(100,1100,100) #Sample Size - Target domain for Training\n",
    "size_st = 5000 #Sample Size - Source domain for Training\n",
    "size_test = 3000 #Sample Size - Target domian for Testing\n",
    "source_test_size = 0.2\n",
    "target_test_size = 0.75"
   ]
  },
  {
   "cell_type": "markdown",
   "metadata": {},
   "source": [
    "### Model Evaluation"
   ]
  },
  {
   "cell_type": "code",
   "execution_count": null,
   "metadata": {},
   "outputs": [],
   "source": [
    "# Experiment: Evaluate the model given different sample size of traget domain for training\n",
    "\n",
    "from xgboost import TransBoostClassifier\n",
    "from sklearn.model_selection import train_test_split\n",
    "from sklearn.metrics import roc_auc_score\n",
    "import warnings\n",
    "warnings.filterwarnings(\"ignore\")\n",
    "\n",
    "result = []\n",
    "for size in size_tt:\n",
    "    target_train,target_test=train_test_split(target, test_size = target_test_size, random_state=952)\n",
    "    source_train = source\n",
    "    target_train = target_train.sample(n = 1000, random_state = 123)\n",
    "    target_test = target_test.sample(n = size_test, random_state = 123)\n",
    "    target_train = target_train.sample(n = size, random_state = 456)\n",
    "    \n",
    "    X_source_train=source_train.reset_index(drop = True).drop(['label'], axis = 1)\n",
    "    Y_source_train=source_train.reset_index(drop = True).label\n",
    "    X_target_train=target_train.reset_index(drop = True).drop(['label'], axis = 1)\n",
    "    Y_target_train=target_train.reset_index(drop = True).label\n",
    "    X_target_test=target_test.reset_index(drop = True).drop(['label'], axis = 1)\n",
    "    Y_target_test=target_test.reset_index(drop = True).label\n",
    "\n",
    "    # Data normalization\n",
    "    from sklearn.preprocessing import MinMaxScaler\n",
    "    min_max_scaler = MinMaxScaler()\n",
    "    X_target_train = min_max_scaler.fit_transform(X_target_train)\n",
    "    X_target_test = min_max_scaler.transform(X_target_test)\n",
    "    X_source_train = min_max_scaler.transform(X_source_train)\n",
    "\n",
    "    # TransBoostClassifier\n",
    "    clf = TransBoostClassifier(max_depth=4,\n",
    "                  learning_rate=0.1,\n",
    "                  n_estimators=40,\n",
    "                  min_child_weight=0,\n",
    "                  reg_alpha=0.,\n",
    "                  reg_lambda=1.,\n",
    "                  objective='binary:logistic',\n",
    "                  seed=1440,\n",
    "                  transfer_decay_ratio = 2., \n",
    "                  transfer_velocity = 1. ,\n",
    "                  transfer_rebalance = False,\n",
    "                  transfer_min_leaf_size = 10,\n",
    "                  transfer_prior_margin = 'mirror',\n",
    "                  transfer_margin_estimation = 'firstorder',\n",
    "                  verbosity = 0,\n",
    "                  nthread=64)\n",
    "    # Fit the model\n",
    "    tb_model=clf.fit(X_source_train, Y_source_train, X_target_train,Y_target_train)\n",
    "    y_pred_target_test=tb_model.predict_proba(X_target_test)[:,1]\n",
    "    result.append([size,roc_auc_score(Y_target_test, y_pred_target_test)])\n",
    "\n",
    "result=pd.DataFrame(result)\n",
    "result.columns=['TargetDomianSize','AUC']\n",
    "print(result)"
   ]
  },
  {
   "cell_type": "markdown",
   "metadata": {},
   "source": [
    "## Experiment 2: Public Benchmark - Wine Quality"
   ]
  },
  {
   "cell_type": "markdown",
   "metadata": {},
   "source": [
    "### Data Preparation"
   ]
  },
  {
   "cell_type": "code",
   "execution_count": null,
   "metadata": {},
   "outputs": [],
   "source": [
    "'''\n",
    "[2]UCI wine quality dataset:\n",
    "    URL: https://archive.ics.uci.edu/ml/datasets/wine+quality\n",
    "    Source: Paulo Cortez, University of Minho, Guimarães, Portugal, http://www3.dsi.uminho.pt/pcortez\n",
    "    A. Cerdeira, F. Almeida, T. Matos and J. Reis, Viticulture Commission of the Vinho Verde Region(CVRVV), Porto, Portugal\n",
    "    @2009\n",
    "'''\n",
    "import numpy as np\n",
    "import pandas as pd\n",
    "\n",
    "## Load data\n",
    "target_wine = pd.read_csv('./data/winequality-red.csv', sep = ';')\n",
    "source_wine = pd.read_csv('./data/winequality-white.csv', sep = ';')\n",
    "target_wine['label'] = [0 if t <=5 else 1 for t in target_wine['quality']]\n",
    "source_wine['label'] = [0 if t <=5 else 1 for t in source_wine['quality']]\n",
    "column_selected = ['fixed acidity', 'volatile acidity', 'citric acid', 'residual sugar',\n",
    "       'chlorides', 'free sulfur dioxide', 'total sulfur dioxide', 'density',\n",
    "       'pH', 'sulphates', 'alcohol', 'label']\n",
    "target_wine = target_wine[column_selected]\n",
    "source_wine = source_wine[column_selected]\n",
    "\n",
    "## Data\n",
    "source = source_wine\n",
    "target = target_wine\n",
    "\n",
    "## parameter\n",
    "size_tt = range(50,550,50) #Sample Size - Target domain for Training\n",
    "source_test_size = 0.2\n",
    "target_test_size = 0.6"
   ]
  },
  {
   "cell_type": "markdown",
   "metadata": {},
   "source": [
    "### Model Evaluation"
   ]
  },
  {
   "cell_type": "code",
   "execution_count": null,
   "metadata": {},
   "outputs": [],
   "source": [
    "# Experiment: Evaluate the model given different sample size of traget domain for training\n",
    "\n",
    "import xgboost\n",
    "from imp import reload\n",
    "reload(xgboost)\n",
    "from xgboost import TransBoostClassifier\n",
    "from sklearn.model_selection import train_test_split\n",
    "from sklearn.metrics import roc_auc_score\n",
    "import warnings\n",
    "warnings.filterwarnings(\"ignore\")\n",
    "\n",
    "result = []\n",
    "\n",
    "for size in size_tt:\n",
    "\n",
    "    # Train-Test split\n",
    "    source_train,source_test=train_test_split(source, test_size = source_test_size, random_state=952)\n",
    "    target_train,target_test=train_test_split(target, test_size = target_test_size, random_state=952)\n",
    "    target_train = target_train.sample(n = size, random_state = 123)\n",
    "\n",
    "    X_source_train=source_train.reset_index(drop = True).drop(['label'], axis = 1)\n",
    "    Y_source_train=source_train.reset_index(drop = True).label\n",
    "    X_source_test=source_test.reset_index(drop = True).drop(['label'], axis = 1)\n",
    "    Y_source_test=source_test.reset_index(drop = True).label\n",
    "    X_target_train=target_train.reset_index(drop = True).drop(['label'], axis = 1)\n",
    "    Y_target_train=target_train.reset_index(drop = True).label\n",
    "    X_target_test=target_test.reset_index(drop = True).drop(['label'], axis = 1)\n",
    "    Y_target_test=target_test.reset_index(drop = True).label\n",
    "\n",
    "    # Data normalization\n",
    "    from sklearn.preprocessing import MinMaxScaler\n",
    "    min_max_scaler = MinMaxScaler()\n",
    "    X_target_train = min_max_scaler.fit_transform(X_target_train)\n",
    "    X_target_test = min_max_scaler.transform(X_target_test)\n",
    "    X_source_train = min_max_scaler.transform(X_source_train)\n",
    "    X_source_test = min_max_scaler.transform(X_source_test)\n",
    "    \n",
    "    # TransBoostClassifier\n",
    "    clf = TransBoostClassifier(max_depth=4,\n",
    "                  learning_rate=0.1,\n",
    "                  n_estimators=40,\n",
    "                  min_child_weight=0,\n",
    "                  reg_alpha=0.,\n",
    "                  reg_lambda=1.,\n",
    "                  objective='binary:logistic',\n",
    "                  seed=1440,\n",
    "                  transfer_decay_ratio = 2., \n",
    "                  transfer_velocity = 1. ,\n",
    "                  transfer_rebalance = False,\n",
    "                  transfer_min_leaf_size = 10,\n",
    "                  transfer_prior_margin = 'mirror',\n",
    "                  transfer_margin_estimation = 'firstorder',\n",
    "                  verbosity = 0,\n",
    "                  nthread=64)\n",
    "    # Fit the model\n",
    "    tb_model=clf.fit(X_source_train, Y_source_train, X_target_train,Y_target_train)\n",
    "    y_pred_target_test=tb_model.predict_proba(X_target_test)[:,1]\n",
    "    result.append([size,roc_auc_score(Y_target_test, y_pred_target_test)])\n",
    "\n",
    "result=pd.DataFrame(result)\n",
    "result.columns=['TargetDomianSize','AUC']\n",
    "print(result)"
   ]
  },
  {
   "cell_type": "markdown",
   "metadata": {},
   "source": [
    "# Restore your python environment"
   ]
  },
  {
   "cell_type": "code",
   "execution_count": null,
   "metadata": {},
   "outputs": [],
   "source": [
    "#Step3: Uninstall TransBoost\n",
    "!pip3 install --force-reinstall xgboost\n"
   ]
  },
  {
   "cell_type": "code",
   "execution_count": null,
   "metadata": {},
   "outputs": [],
   "source": []
  }
 ],
 "metadata": {
  "kernelspec": {
   "display_name": "Python 3",
   "language": "python",
   "name": "python3"
  },
  "language_info": {
   "codemirror_mode": {
    "name": "ipython",
    "version": 3
   },
   "file_extension": ".py",
   "mimetype": "text/x-python",
   "name": "python",
   "nbconvert_exporter": "python",
   "pygments_lexer": "ipython3",
   "version": "3.8.5"
  }
 },
 "nbformat": 4,
 "nbformat_minor": 5
}
